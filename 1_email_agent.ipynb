{
 "cells": [
  {
   "cell_type": "code",
   "execution_count": null,
   "id": "9a4d6fb9",
   "metadata": {},
   "outputs": [
    {
     "data": {
      "text/plain": [
       "True"
      ]
     },
     "execution_count": 1,
     "metadata": {},
     "output_type": "execute_result"
    }
   ],
   "source": [
    "from dotenv import load_dotenv\n",
    "load_dotenv()"
   ]
  },
  {
   "cell_type": "code",
   "execution_count": 2,
   "id": "aea5dafa",
   "metadata": {},
   "outputs": [
    {
     "data": {
      "text/plain": [
       "'Transcendental Meditation (TM) was popularized by **Maharishi Mahesh Yogi**. While he didn\\'t \"invent\" the core principles of meditation, he systematized and popularized a specific technique and branded it as Transcendental Meditation.\\n\\nTherefore, the answer is **Maharishi Mahesh Yogi**.\\n'"
      ]
     },
     "execution_count": 2,
     "metadata": {},
     "output_type": "execute_result"
    },
    {
     "name": "stderr",
     "output_type": "stream",
     "text": [
      "c:\\Users\\91987\\Music\\crewai-email\\.venv\\Lib\\site-packages\\pydantic\\main.py:463: UserWarning: Pydantic serializer warnings:\n",
      "  PydanticSerializationUnexpectedValue(Expected 9 fields but got 5: Expected `Message` - serialized value may not be as expected [input_value=Message(content='Transcen...er_specific_fields=None), input_type=Message])\n",
      "  PydanticSerializationUnexpectedValue(Expected `StreamingChoices` - serialized value may not be as expected [input_value=Choices(finish_reason='st...r_specific_fields=None)), input_type=Choices])\n",
      "  return self.__pydantic_serializer__.to_python(\n"
     ]
    },
    {
     "name": "stderr",
     "output_type": "stream",
     "text": [
      "c:\\Users\\91987\\Music\\crewai-email\\.venv\\Lib\\site-packages\\pydantic\\main.py:463: UserWarning: Pydantic serializer warnings:\n",
      "  PydanticSerializationUnexpectedValue(Expected 9 fields but got 5: Expected `Message` - serialized value may not be as expected [input_value=Message(content=\"I will t...er_specific_fields=None), input_type=Message])\n",
      "  PydanticSerializationUnexpectedValue(Expected `StreamingChoices` - serialized value may not be as expected [input_value=Choices(finish_reason='st...r_specific_fields=None)), input_type=Choices])\n",
      "  return self.__pydantic_serializer__.to_python(\n"
     ]
    }
   ],
   "source": [
    "from crewai import LLM\n",
    "\n",
    "llm = LLM(\n",
    "    model=\"gemini/gemini-2.0-flash\",\n",
    "    temperature=0.1\n",
    ")\n",
    "llm.call(\"who invented transcendental meditation\")"
   ]
  },
  {
   "cell_type": "code",
   "execution_count": 3,
   "id": "03fd2daa",
   "metadata": {},
   "outputs": [],
   "source": [
    "from crewai import Agent, Task, Crew"
   ]
  },
  {
   "cell_type": "markdown",
   "id": "91b8803f",
   "metadata": {},
   "source": [
    "## Write your raw email input\n"
   ]
  },
  {
   "cell_type": "code",
   "execution_count": 5,
   "id": "27e25350",
   "metadata": {},
   "outputs": [],
   "source": [
    "\n",
    "original_email = \"\"\"\n",
    "hi team \n",
    "greetings \n",
    "i will be absent on toomorow for some work.\n",
    "project is almost ready\n",
    "will you contionue work\n",
    "i will be availabe online for help \n",
    "regards Piyush Anand\n",
    "\"\"\"\n"
   ]
  },
  {
   "cell_type": "code",
   "execution_count": 6,
   "id": "9455d976",
   "metadata": {},
   "outputs": [
    {
     "name": "stdout",
     "output_type": "stream",
     "text": [
      "\u001b[36m┌─\u001b[0m\u001b[36m─────────────────────────\u001b[0m\u001b[36m Crew Execution Started \u001b[0m\u001b[36m──────────────────────────\u001b[0m\u001b[36m─┐\u001b[0m\n",
      "\u001b[36m│\u001b[0m                                                                             \u001b[36m│\u001b[0m\n",
      "\u001b[36m│\u001b[0m  \u001b[1;36mCrew Execution Started\u001b[0m                                                     \u001b[36m│\u001b[0m\n",
      "\u001b[36m│\u001b[0m  \u001b[37mName: \u001b[0m\u001b[36mcrew\u001b[0m                                                                 \u001b[36m│\u001b[0m\n",
      "\u001b[36m│\u001b[0m  \u001b[37mID: \u001b[0m\u001b[36m488a388f-f21e-4e55-a71a-76d0046eeb9b\u001b[0m                                   \u001b[36m│\u001b[0m\n",
      "\u001b[36m│\u001b[0m  \u001b[37mTool Args: \u001b[0m                                                                \u001b[36m│\u001b[0m\n",
      "\u001b[36m│\u001b[0m                                                                             \u001b[36m│\u001b[0m\n",
      "\u001b[36m│\u001b[0m                                                                             \u001b[36m│\u001b[0m\n",
      "\u001b[36m└─────────────────────────────────────────────────────────────────────────────┘\u001b[0m\n",
      "\n",
      "\u001b[?25l\u001b[1;36m🚀 Crew: \u001b[0m\u001b[1;36mcrew\u001b[0m\n",
      "└── \u001b[1;33m📋 Task: ad29a5e4-e362-4a3b-96ae-417deba469af\u001b[0m\n",
      "    \u001b[37mStatus: \u001b[0m\u001b[2;33mExecuting Task...\u001b[0m\n",
      "\u001b[?25h\u001b[35m┌─\u001b[0m\u001b[35m────────────────────────────\u001b[0m\u001b[35m 🤖 Agent Started \u001b[0m\u001b[35m─────────────────────────────\u001b[0m\u001b[35m─┐\u001b[0m\n",
      "\u001b[35m│\u001b[0m                                                                             \u001b[35m│\u001b[0m\n",
      "\u001b[35m│\u001b[0m  \u001b[37mAgent: \u001b[0m\u001b[1;92mEmail Assitant Agent\u001b[0m                                                \u001b[35m│\u001b[0m\n",
      "\u001b[35m│\u001b[0m                                                                             \u001b[35m│\u001b[0m\n",
      "\u001b[35m│\u001b[0m  \u001b[37mTask: \u001b[0m                                                                     \u001b[35m│\u001b[0m\n",
      "\u001b[35m│\u001b[0m  \u001b[92m        Take the following rough email and rewrite it into professional \u001b[0m   \u001b[35m│\u001b[0m\n",
      "\u001b[35m│\u001b[0m  \u001b[92mand polished version.\u001b[0m                                                      \u001b[35m│\u001b[0m\n",
      "\u001b[35m│\u001b[0m  \u001b[92m        Expand abbreviations:\u001b[0m                                              \u001b[35m│\u001b[0m\n",
      "\u001b[35m│\u001b[0m  \u001b[92m        '\u001b[0m                                                                  \u001b[35m│\u001b[0m\n",
      "\u001b[35m│\u001b[0m  \u001b[92mhi team \u001b[0m                                                                   \u001b[35m│\u001b[0m\n",
      "\u001b[35m│\u001b[0m  \u001b[92mgreetings \u001b[0m                                                                 \u001b[35m│\u001b[0m\n",
      "\u001b[35m│\u001b[0m  \u001b[92mi will be absent on toomorow for some work.\u001b[0m                                \u001b[35m│\u001b[0m\n",
      "\u001b[35m│\u001b[0m  \u001b[92mproject is almost ready\u001b[0m                                                    \u001b[35m│\u001b[0m\n",
      "\u001b[35m│\u001b[0m  \u001b[92mwill you contionue work\u001b[0m                                                    \u001b[35m│\u001b[0m\n",
      "\u001b[35m│\u001b[0m  \u001b[92mi will be availabe online for help \u001b[0m                                        \u001b[35m│\u001b[0m\n",
      "\u001b[35m│\u001b[0m  \u001b[92mregards Piyush Anand\u001b[0m                                                       \u001b[35m│\u001b[0m\n",
      "\u001b[35m│\u001b[0m  \u001b[92m'\u001b[0m                                                                          \u001b[35m│\u001b[0m\n",
      "\u001b[35m│\u001b[0m  \u001b[92m    \u001b[0m                                                                       \u001b[35m│\u001b[0m\n",
      "\u001b[35m│\u001b[0m                                                                             \u001b[35m│\u001b[0m\n",
      "\u001b[35m└─────────────────────────────────────────────────────────────────────────────┘\u001b[0m\n",
      "\n",
      "\u001b[?25l\u001b[1;36m🚀 Crew: \u001b[0m\u001b[1;36mcrew\u001b[0m\n",
      "└── \u001b[1;33m📋 Task: ad29a5e4-e362-4a3b-96ae-417deba469af\u001b[0m\n",
      "    \u001b[37mStatus: \u001b[0m\u001b[2;33mExecuting Task...\u001b[0m\n",
      "\u001b[2K\u001b[1A\u001b[2K\u001b[1A\u001b[2K\u001b[1A\u001b[2K\u001b[1;36m🚀 Crew: \u001b[0m\u001b[1;36mcrew\u001b[0m\n",
      "└── \u001b[1;33m📋 Task: ad29a5e4-e362-4a3b-96ae-417deba469af\u001b[0m\n",
      "    \u001b[37mStatus: \u001b[0m\u001b[2;33mExecuting Task...\u001b[0m\n",
      "\u001b[2K\u001b[1A\u001b[2K\u001b[1A\u001b[2K\u001b[1A\u001b[2K\u001b[1;36m🚀 Crew: \u001b[0m\u001b[1;36mcrew\u001b[0m\n",
      "└── \u001b[1;33m📋 Task: ad29a5e4-e362-4a3b-96ae-417deba469af\u001b[0m\n",
      "    \u001b[37mStatus: \u001b[0m\u001b[2;33mExecuting Task...\u001b[0m\n",
      "\u001b[2K\u001b[1A\u001b[2K\u001b[1A\u001b[2K\u001b[1A\u001b[2K\u001b[1;36m🚀 Crew: \u001b[0m\u001b[1;36mcrew\u001b[0m\n",
      "└── \u001b[1;33m📋 Task: ad29a5e4-e362-4a3b-96ae-417deba469af\u001b[0m\n",
      "    \u001b[37mStatus: \u001b[0m\u001b[2;33mExecuting Task...\u001b[0m\n",
      "\u001b[2K\u001b[1A\u001b[2K\u001b[1A\u001b[2K\u001b[1A\u001b[2K\u001b[1;36m🚀 Crew: \u001b[0m\u001b[1;36mcrew\u001b[0m\n",
      "└── \u001b[1;33m📋 Task: ad29a5e4-e362-4a3b-96ae-417deba469af\u001b[0m\n",
      "    \u001b[37mStatus: \u001b[0m\u001b[2;33mExecuting Task...\u001b[0m\n",
      "\u001b[2K\u001b[1A\u001b[2K\u001b[1A\u001b[2K\u001b[1A\u001b[2K\u001b[1;36m🚀 Crew: \u001b[0m\u001b[1;36mcrew\u001b[0m\n",
      "└── \u001b[1;33m📋 Task: ad29a5e4-e362-4a3b-96ae-417deba469af\u001b[0m\n",
      "    \u001b[37mStatus: \u001b[0m\u001b[2;33mExecuting Task...\u001b[0m\n",
      "\u001b[2K\u001b[1A\u001b[2K\u001b[1A\u001b[2K\u001b[1A\u001b[2K\u001b[1;36m🚀 Crew: \u001b[0m\u001b[1;36mcrew\u001b[0m\n",
      "└── \u001b[1;33m📋 Task: ad29a5e4-e362-4a3b-96ae-417deba469af\u001b[0m\n",
      "    \u001b[37mStatus: \u001b[0m\u001b[2;33mExecuting Task...\u001b[0m\n",
      "\u001b[2K\u001b[1A\u001b[2K\u001b[1A\u001b[2K\u001b[1A\u001b[2K\u001b[1;36m🚀 Crew: \u001b[0m\u001b[1;36mcrew\u001b[0m\n",
      "└── \u001b[1;33m📋 Task: ad29a5e4-e362-4a3b-96ae-417deba469af\u001b[0m\n",
      "    \u001b[37mStatus: \u001b[0m\u001b[2;33mExecuting Task...\u001b[0m\n",
      "\u001b[2K\u001b[1A\u001b[2K\u001b[1A\u001b[2K\u001b[1A\u001b[2K\u001b[1;36m🚀 Crew: \u001b[0m\u001b[1;36mcrew\u001b[0m\n",
      "└── \u001b[1;33m📋 Task: ad29a5e4-e362-4a3b-96ae-417deba469af\u001b[0m\n",
      "    \u001b[37mStatus: \u001b[0m\u001b[2;33mExecuting Task...\u001b[0m\n",
      "\u001b[2K\u001b[1A\u001b[2K\u001b[1A\u001b[2K\u001b[1A\u001b[2K\u001b[1;36m🚀 Crew: \u001b[0m\u001b[1;36mcrew\u001b[0m\n",
      "└── \u001b[1;33m📋 Task: ad29a5e4-e362-4a3b-96ae-417deba469af\u001b[0m\n",
      "    \u001b[37mStatus: \u001b[0m\u001b[2;33mExecuting Task...\u001b[0m\n",
      "\u001b[2K\u001b[1A\u001b[2K\u001b[1A\u001b[2K\u001b[1A\u001b[2K\u001b[1;36m🚀 Crew: \u001b[0m\u001b[1;36mcrew\u001b[0m\n",
      "└── \u001b[1;33m📋 Task: ad29a5e4-e362-4a3b-96ae-417deba469af\u001b[0m\n",
      "    \u001b[37mStatus: \u001b[0m\u001b[2;33mExecuting Task...\u001b[0m\n",
      "\u001b[2K\u001b[1A\u001b[2K\u001b[1A\u001b[2K\u001b[1A\u001b[2K\u001b[1;36m🚀 Crew: \u001b[0m\u001b[1;36mcrew\u001b[0m\n",
      "└── \u001b[1;33m📋 Task: ad29a5e4-e362-4a3b-96ae-417deba469af\u001b[0m\n",
      "    \u001b[37mStatus: \u001b[0m\u001b[2;33mExecuting Task...\u001b[0m\n",
      "\u001b[2K\u001b[1A\u001b[2K\u001b[1A\u001b[2K\u001b[1A\u001b[2K\u001b[1;36m🚀 Crew: \u001b[0m\u001b[1;36mcrew\u001b[0m\n",
      "└── \u001b[1;33m📋 Task: ad29a5e4-e362-4a3b-96ae-417deba469af\u001b[0m\n",
      "    \u001b[37mStatus: \u001b[0m\u001b[2;33mExecuting Task...\u001b[0m\n",
      "\u001b[2K\u001b[1A\u001b[2K\u001b[1A\u001b[2K\u001b[1A\u001b[2K\u001b[1;36m🚀 Crew: \u001b[0m\u001b[1;36mcrew\u001b[0m\n",
      "└── \u001b[1;33m📋 Task: ad29a5e4-e362-4a3b-96ae-417deba469af\u001b[0m\n",
      "    \u001b[37mStatus: \u001b[0m\u001b[2;33mExecuting Task...\u001b[0m\n",
      "\u001b[2K\u001b[1A\u001b[2K\u001b[1A\u001b[2K\u001b[1A\u001b[2K\u001b[1;36m🚀 Crew: \u001b[0m\u001b[1;36mcrew\u001b[0m\n",
      "└── \u001b[1;33m📋 Task: ad29a5e4-e362-4a3b-96ae-417deba469af\u001b[0m\n",
      "\u001b[2K\u001b[1A\u001b[2K\u001b[1A\u001b[2K\u001b[1;36m🚀 Crew: \u001b[0m\u001b[1;36mcrew\u001b[0m\n",
      "└── \u001b[1;33m📋 Task: ad29a5e4-e362-4a3b-96ae-417deba469af\u001b[0m\n",
      "    \u001b[37mStatus: \u001b[0m\u001b[2;33mExecuting Task...\u001b[0m\n",
      "\u001b[?25h\u001b[32m┌─\u001b[0m\u001b[32m──────────────────────────\u001b[0m\u001b[32m ✅ Agent Final Answer \u001b[0m\u001b[32m──────────────────────────\u001b[0m\u001b[32m─┐\u001b[0m\n",
      "\u001b[32m│\u001b[0m                                                                             \u001b[32m│\u001b[0m\n",
      "\u001b[32m│\u001b[0m  \u001b[37mAgent: \u001b[0m\u001b[1;92mEmail Assitant Agent\u001b[0m                                                \u001b[32m│\u001b[0m\n",
      "\u001b[32m│\u001b[0m                                                                             \u001b[32m│\u001b[0m\n",
      "\u001b[32m│\u001b[0m  \u001b[37mFinal Answer:\u001b[0m                                                              \u001b[32m│\u001b[0m\n",
      "\u001b[32m│\u001b[0m  \u001b[92m```\u001b[0m                                                                        \u001b[32m│\u001b[0m\n",
      "\u001b[32m│\u001b[0m  \u001b[92mSubject: Absence Tomorrow - [Project Name] Update\u001b[0m                          \u001b[32m│\u001b[0m\n",
      "\u001b[32m│\u001b[0m                                                                             \u001b[32m│\u001b[0m\n",
      "\u001b[32m│\u001b[0m  \u001b[92mDear Team,\u001b[0m                                                                 \u001b[32m│\u001b[0m\n",
      "\u001b[32m│\u001b[0m                                                                             \u001b[32m│\u001b[0m\n",
      "\u001b[32m│\u001b[0m  \u001b[92mI hope this email finds you well.\u001b[0m                                          \u001b[32m│\u001b[0m\n",
      "\u001b[32m│\u001b[0m                                                                             \u001b[32m│\u001b[0m\n",
      "\u001b[32m│\u001b[0m  \u001b[92mPlease be advised that I will be absent tomorrow, [Date], due to other \u001b[0m    \u001b[32m│\u001b[0m\n",
      "\u001b[32m│\u001b[0m  \u001b[92mwork commitments.\u001b[0m                                                          \u001b[32m│\u001b[0m\n",
      "\u001b[32m│\u001b[0m                                                                             \u001b[32m│\u001b[0m\n",
      "\u001b[32m│\u001b[0m  \u001b[92mRegarding the [Project Name] project, I'm pleased to report that it is \u001b[0m    \u001b[32m│\u001b[0m\n",
      "\u001b[32m│\u001b[0m  \u001b[92mnearing completion. I kindly request that you continue working on it in \u001b[0m   \u001b[32m│\u001b[0m\n",
      "\u001b[32m│\u001b[0m  \u001b[92mmy absence.\u001b[0m                                                                \u001b[32m│\u001b[0m\n",
      "\u001b[32m│\u001b[0m                                                                             \u001b[32m│\u001b[0m\n",
      "\u001b[32m│\u001b[0m  \u001b[92mI will be available online for any assistance you may require. Please do \u001b[0m  \u001b[32m│\u001b[0m\n",
      "\u001b[32m│\u001b[0m  \u001b[92mnot hesitate to reach out if you have any questions or encounter any \u001b[0m      \u001b[32m│\u001b[0m\n",
      "\u001b[32m│\u001b[0m  \u001b[92missues.\u001b[0m                                                                    \u001b[32m│\u001b[0m\n",
      "\u001b[32m│\u001b[0m                                                                             \u001b[32m│\u001b[0m\n",
      "\u001b[32m│\u001b[0m  \u001b[92mThank you for your continued dedication and hard work.\u001b[0m                     \u001b[32m│\u001b[0m\n",
      "\u001b[32m│\u001b[0m                                                                             \u001b[32m│\u001b[0m\n",
      "\u001b[32m│\u001b[0m  \u001b[92mBest regards,\u001b[0m                                                              \u001b[32m│\u001b[0m\n",
      "\u001b[32m│\u001b[0m                                                                             \u001b[32m│\u001b[0m\n",
      "\u001b[32m│\u001b[0m  \u001b[92mPiyush Anand\u001b[0m                                                               \u001b[32m│\u001b[0m\n",
      "\u001b[32m│\u001b[0m  \u001b[92m```\u001b[0m                                                                        \u001b[32m│\u001b[0m\n",
      "\u001b[32m│\u001b[0m                                                                             \u001b[32m│\u001b[0m\n",
      "\u001b[32m└─────────────────────────────────────────────────────────────────────────────┘\u001b[0m\n",
      "\n",
      "\u001b[?25l\u001b[1;36m🚀 Crew: \u001b[0m\u001b[1;36mcrew\u001b[0m\n",
      "└── \u001b[1;32m📋 Task: ad29a5e4-e362-4a3b-96ae-417deba469af\u001b[0m\n",
      "    \u001b[37mAssigned to: \u001b[0m\u001b[32mEmail Assitant Agent\u001b[0m\n",
      "    \u001b[37mStatus: \u001b[0m\u001b[1;32m✅ Completed\u001b[0m\n",
      "\u001b[?25h\u001b[32m┌─\u001b[0m\u001b[32m─────────────────────────────\u001b[0m\u001b[32m Task Completion \u001b[0m\u001b[32m─────────────────────────────\u001b[0m\u001b[32m─┐\u001b[0m\n",
      "\u001b[32m│\u001b[0m                                                                             \u001b[32m│\u001b[0m\n",
      "\u001b[32m│\u001b[0m  \u001b[1;32mTask Completed\u001b[0m                                                             \u001b[32m│\u001b[0m\n",
      "\u001b[32m│\u001b[0m  \u001b[37mName: \u001b[0m\u001b[32mad29a5e4-e362-4a3b-96ae-417deba469af\u001b[0m                                 \u001b[32m│\u001b[0m\n",
      "\u001b[32m│\u001b[0m  \u001b[37mAgent: \u001b[0m\u001b[32mEmail Assitant Agent\u001b[0m                                                \u001b[32m│\u001b[0m\n",
      "\u001b[32m│\u001b[0m  \u001b[37mTool Args: \u001b[0m                                                                \u001b[32m│\u001b[0m\n",
      "\u001b[32m│\u001b[0m                                                                             \u001b[32m│\u001b[0m\n",
      "\u001b[32m│\u001b[0m                                                                             \u001b[32m│\u001b[0m\n",
      "\u001b[32m└─────────────────────────────────────────────────────────────────────────────┘\u001b[0m\n",
      "\n",
      "\u001b[32m┌─\u001b[0m\u001b[32m─────────────────────────────\u001b[0m\u001b[32m Crew Completion \u001b[0m\u001b[32m─────────────────────────────\u001b[0m\u001b[32m─┐\u001b[0m\n",
      "\u001b[32m│\u001b[0m                                                                             \u001b[32m│\u001b[0m\n",
      "\u001b[32m│\u001b[0m  \u001b[1;32mCrew Execution Completed\u001b[0m                                                   \u001b[32m│\u001b[0m\n",
      "\u001b[32m│\u001b[0m  \u001b[37mName: \u001b[0m\u001b[32mcrew\u001b[0m                                                                 \u001b[32m│\u001b[0m\n",
      "\u001b[32m│\u001b[0m  \u001b[37mID: \u001b[0m\u001b[32m488a388f-f21e-4e55-a71a-76d0046eeb9b\u001b[0m                                   \u001b[32m│\u001b[0m\n",
      "\u001b[32m│\u001b[0m  \u001b[37mTool Args: \u001b[0m                                                                \u001b[32m│\u001b[0m\n",
      "\u001b[32m│\u001b[0m  \u001b[37mFinal Output: ```\u001b[0m                                                          \u001b[32m│\u001b[0m\n",
      "\u001b[32m│\u001b[0m  \u001b[37mSubject: Absence Tomorrow - [Project Name] Update\u001b[0m                          \u001b[32m│\u001b[0m\n",
      "\u001b[32m│\u001b[0m                                                                             \u001b[32m│\u001b[0m\n",
      "\u001b[32m│\u001b[0m  \u001b[37mDear Team,\u001b[0m                                                                 \u001b[32m│\u001b[0m\n",
      "\u001b[32m│\u001b[0m                                                                             \u001b[32m│\u001b[0m\n",
      "\u001b[32m│\u001b[0m  \u001b[37mI hope this email finds you well.\u001b[0m                                          \u001b[32m│\u001b[0m\n",
      "\u001b[32m│\u001b[0m                                                                             \u001b[32m│\u001b[0m\n",
      "\u001b[32m│\u001b[0m  \u001b[37mPlease be advised that I will be absent tomorrow, [Date], due to other \u001b[0m    \u001b[32m│\u001b[0m\n",
      "\u001b[32m│\u001b[0m  \u001b[37mwork commitments.\u001b[0m                                                          \u001b[32m│\u001b[0m\n",
      "\u001b[32m│\u001b[0m                                                                             \u001b[32m│\u001b[0m\n",
      "\u001b[32m│\u001b[0m  \u001b[37mRegarding the [Project Name] project, I'm pleased to report that it is \u001b[0m    \u001b[32m│\u001b[0m\n",
      "\u001b[32m│\u001b[0m  \u001b[37mnearing completion. I kindly request that you continue working on it in \u001b[0m   \u001b[32m│\u001b[0m\n",
      "\u001b[32m│\u001b[0m  \u001b[37mmy absence.\u001b[0m                                                                \u001b[32m│\u001b[0m\n",
      "\u001b[32m│\u001b[0m                                                                             \u001b[32m│\u001b[0m\n",
      "\u001b[32m│\u001b[0m  \u001b[37mI will be available online for any assistance you may require. Please do \u001b[0m  \u001b[32m│\u001b[0m\n",
      "\u001b[32m│\u001b[0m  \u001b[37mnot hesitate to reach out if you have any questions or encounter any \u001b[0m      \u001b[32m│\u001b[0m\n",
      "\u001b[32m│\u001b[0m  \u001b[37missues.\u001b[0m                                                                    \u001b[32m│\u001b[0m\n",
      "\u001b[32m│\u001b[0m                                                                             \u001b[32m│\u001b[0m\n",
      "\u001b[32m│\u001b[0m  \u001b[37mThank you for your continued dedication and hard work.\u001b[0m                     \u001b[32m│\u001b[0m\n",
      "\u001b[32m│\u001b[0m                                                                             \u001b[32m│\u001b[0m\n",
      "\u001b[32m│\u001b[0m  \u001b[37mBest regards,\u001b[0m                                                              \u001b[32m│\u001b[0m\n",
      "\u001b[32m│\u001b[0m                                                                             \u001b[32m│\u001b[0m\n",
      "\u001b[32m│\u001b[0m  \u001b[37mPiyush Anand\u001b[0m                                                               \u001b[32m│\u001b[0m\n",
      "\u001b[32m│\u001b[0m  \u001b[37m```\u001b[0m                                                                        \u001b[32m│\u001b[0m\n",
      "\u001b[32m│\u001b[0m                                                                             \u001b[32m│\u001b[0m\n",
      "\u001b[32m│\u001b[0m                                                                             \u001b[32m│\u001b[0m\n",
      "\u001b[32m└─────────────────────────────────────────────────────────────────────────────┘\u001b[0m\n",
      "\n",
      "```\n",
      "Subject: Absence Tomorrow - [Project Name] Update\n",
      "\n",
      "Dear Team,\n",
      "\n",
      "I hope this email finds you well.\n",
      "\n",
      "Please be advised that I will be absent tomorrow, [Date], due to other work commitments.\n",
      "\n",
      "Regarding the [Project Name] project, I'm pleased to report that it is nearing completion. I kindly request that you continue working on it in my absence.\n",
      "\n",
      "I will be available online for any assistance you may require. Please do not hesitate to reach out if you have any questions or encounter any issues.\n",
      "\n",
      "Thank you for your continued dedication and hard work.\n",
      "\n",
      "Best regards,\n",
      "\n",
      "Piyush Anand\n",
      "```\n"
     ]
    },
    {
     "name": "stderr",
     "output_type": "stream",
     "text": [
      "HTTPSConnectionPool(host='telemetry.crewai.com', port=4319): Read timed out. (read timeout=30.0)\n"
     ]
    }
   ],
   "source": [
    "email_assitant = Agent(\n",
    "    role = \"Email Assitant Agent\",\n",
    "    goal=\"Improve emails and make them sound professioal and clear\",\n",
    "    backstory=\"A highly experienced communication expert skilled in peofesional email writting\",\n",
    "    verbose = True,\n",
    "    llm = llm\n",
    ")\n",
    "\n",
    "email_task = Task(\n",
    "    description= f\"\"\"\n",
    "        Take the following rough email and rewrite it into professional and polished version.\n",
    "        Expand abbreviations:\n",
    "        '{original_email}'\n",
    "    \"\"\",\n",
    "agent=email_assitant,\n",
    "expected_output=\"A proffesional email with proper formationg and content.\"\n",
    ")\n",
    "\n",
    "\n",
    "crew = Crew(\n",
    "    agents=[email_assitant],\n",
    "    tasks=[email_task],\n",
    "    verbose=True\n",
    ")\n",
    "\n",
    "ans = crew.kickoff()\n",
    "print(ans)"
   ]
  },
  {
   "cell_type": "code",
   "execution_count": 8,
   "id": "1468be47",
   "metadata": {},
   "outputs": [],
   "source": [
    "res = str(ans)\n",
    "with open(\"polished_email.md\", \"w\", encoding=\"utf-8\") as f:\n",
    "    f.write(res)"
   ]
  },
  {
   "cell_type": "code",
   "execution_count": null,
   "id": "b412707a",
   "metadata": {},
   "outputs": [],
   "source": []
  }
 ],
 "metadata": {
  "kernelspec": {
   "display_name": "crewai-email",
   "language": "python",
   "name": "python3"
  },
  "language_info": {
   "codemirror_mode": {
    "name": "ipython",
    "version": 3
   },
   "file_extension": ".py",
   "mimetype": "text/x-python",
   "name": "python",
   "nbconvert_exporter": "python",
   "pygments_lexer": "ipython3",
   "version": "3.11.5"
  }
 },
 "nbformat": 4,
 "nbformat_minor": 5
}
